{
 "cells": [
  {
   "cell_type": "code",
   "execution_count": 1,
   "metadata": {},
   "outputs": [],
   "source": [
    "import pandas as pd\n",
    "import numpy as np\n",
    "import matplotlib.pyplot as plt\n",
    "import scipy.stats as st\n",
    "from scipy.stats import linregress\n",
    "import numpy as np"
   ]
  },
  {
   "cell_type": "code",
   "execution_count": 2,
   "metadata": {},
   "outputs": [],
   "source": [
    "sale_counts_file = \"Sale_Counts_Reformatted_3Year.csv\"\n",
    "sale_prices_file = \"Median_Sale_Prices_Reformatted_3Year.csv\""
   ]
  },
  {
   "cell_type": "code",
   "execution_count": 3,
   "metadata": {},
   "outputs": [],
   "source": [
    "counts_df = pd.read_csv(sale_counts_file)\n",
    "prices_df = pd.read_csv(sale_prices_file)"
   ]
  },
  {
   "cell_type": "code",
   "execution_count": 4,
   "metadata": {},
   "outputs": [
    {
     "data": {
      "text/html": [
       "<div>\n",
       "<style scoped>\n",
       "    .dataframe tbody tr th:only-of-type {\n",
       "        vertical-align: middle;\n",
       "    }\n",
       "\n",
       "    .dataframe tbody tr th {\n",
       "        vertical-align: top;\n",
       "    }\n",
       "\n",
       "    .dataframe thead th {\n",
       "        text-align: right;\n",
       "    }\n",
       "</style>\n",
       "<table border=\"1\" class=\"dataframe\">\n",
       "  <thead>\n",
       "    <tr style=\"text-align: right;\">\n",
       "      <th></th>\n",
       "      <th>RegionID</th>\n",
       "      <th>RegionName_count</th>\n",
       "      <th>StateCode_count</th>\n",
       "      <th>Year</th>\n",
       "      <th>Counts</th>\n",
       "      <th>RegionName_price</th>\n",
       "      <th>StateCode_price</th>\n",
       "      <th>Price</th>\n",
       "    </tr>\n",
       "  </thead>\n",
       "  <tbody>\n",
       "    <tr>\n",
       "      <th>0</th>\n",
       "      <td>394865</td>\n",
       "      <td>Minneapolis-St Paul, MN</td>\n",
       "      <td>MN</td>\n",
       "      <td>2017</td>\n",
       "      <td>69093</td>\n",
       "      <td>Minneapolis-St Paul, MN</td>\n",
       "      <td>MN</td>\n",
       "      <td>233492</td>\n",
       "    </tr>\n",
       "    <tr>\n",
       "      <th>1</th>\n",
       "      <td>394543</td>\n",
       "      <td>Duluth, MN</td>\n",
       "      <td>MN</td>\n",
       "      <td>2017</td>\n",
       "      <td>4925</td>\n",
       "      <td>Duluth, MN</td>\n",
       "      <td>MN</td>\n",
       "      <td>139300</td>\n",
       "    </tr>\n",
       "    <tr>\n",
       "      <th>2</th>\n",
       "      <td>395030</td>\n",
       "      <td>Rochester, MN</td>\n",
       "      <td>MN</td>\n",
       "      <td>2017</td>\n",
       "      <td>4282</td>\n",
       "      <td>Rochester, MN</td>\n",
       "      <td>MN</td>\n",
       "      <td>182558</td>\n",
       "    </tr>\n",
       "    <tr>\n",
       "      <th>3</th>\n",
       "      <td>395118</td>\n",
       "      <td>St. Cloud, MN</td>\n",
       "      <td>MN</td>\n",
       "      <td>2017</td>\n",
       "      <td>3302</td>\n",
       "      <td>St. Cloud, MN</td>\n",
       "      <td>MN</td>\n",
       "      <td>164475</td>\n",
       "    </tr>\n",
       "    <tr>\n",
       "      <th>4</th>\n",
       "      <td>394823</td>\n",
       "      <td>Mankato, MN</td>\n",
       "      <td>MN</td>\n",
       "      <td>2017</td>\n",
       "      <td>1554</td>\n",
       "      <td>Mankato, MN</td>\n",
       "      <td>MN</td>\n",
       "      <td>171142</td>\n",
       "    </tr>\n",
       "  </tbody>\n",
       "</table>\n",
       "</div>"
      ],
      "text/plain": [
       "   RegionID         RegionName_count StateCode_count  Year  Counts  \\\n",
       "0    394865  Minneapolis-St Paul, MN              MN  2017   69093   \n",
       "1    394543               Duluth, MN              MN  2017    4925   \n",
       "2    395030            Rochester, MN              MN  2017    4282   \n",
       "3    395118            St. Cloud, MN              MN  2017    3302   \n",
       "4    394823              Mankato, MN              MN  2017    1554   \n",
       "\n",
       "          RegionName_price StateCode_price   Price  \n",
       "0  Minneapolis-St Paul, MN              MN  233492  \n",
       "1               Duluth, MN              MN  139300  \n",
       "2            Rochester, MN              MN  182558  \n",
       "3            St. Cloud, MN              MN  164475  \n",
       "4              Mankato, MN              MN  171142  "
      ]
     },
     "execution_count": 4,
     "metadata": {},
     "output_type": "execute_result"
    }
   ],
   "source": [
    "merged_df = pd.merge(counts_df, prices_df, on=['RegionID','Year'], how='inner', suffixes = ('_count', '_price'))\n",
    "merged_df.head()"
   ]
  },
  {
   "cell_type": "code",
   "execution_count": 6,
   "metadata": {},
   "outputs": [
    {
     "data": {
      "text/html": [
       "<div>\n",
       "<style scoped>\n",
       "    .dataframe tbody tr th:only-of-type {\n",
       "        vertical-align: middle;\n",
       "    }\n",
       "\n",
       "    .dataframe tbody tr th {\n",
       "        vertical-align: top;\n",
       "    }\n",
       "\n",
       "    .dataframe thead th {\n",
       "        text-align: right;\n",
       "    }\n",
       "</style>\n",
       "<table border=\"1\" class=\"dataframe\">\n",
       "  <thead>\n",
       "    <tr style=\"text-align: right;\">\n",
       "      <th></th>\n",
       "      <th>RegionID</th>\n",
       "      <th>RegionName</th>\n",
       "      <th>StateCode</th>\n",
       "      <th>Year</th>\n",
       "      <th>Counts</th>\n",
       "      <th>Price</th>\n",
       "    </tr>\n",
       "  </thead>\n",
       "  <tbody>\n",
       "    <tr>\n",
       "      <th>0</th>\n",
       "      <td>394865</td>\n",
       "      <td>Minneapolis-St Paul, MN</td>\n",
       "      <td>MN</td>\n",
       "      <td>2017</td>\n",
       "      <td>69093</td>\n",
       "      <td>233492</td>\n",
       "    </tr>\n",
       "    <tr>\n",
       "      <th>1</th>\n",
       "      <td>394543</td>\n",
       "      <td>Duluth, MN</td>\n",
       "      <td>MN</td>\n",
       "      <td>2017</td>\n",
       "      <td>4925</td>\n",
       "      <td>139300</td>\n",
       "    </tr>\n",
       "    <tr>\n",
       "      <th>2</th>\n",
       "      <td>395030</td>\n",
       "      <td>Rochester, MN</td>\n",
       "      <td>MN</td>\n",
       "      <td>2017</td>\n",
       "      <td>4282</td>\n",
       "      <td>182558</td>\n",
       "    </tr>\n",
       "    <tr>\n",
       "      <th>3</th>\n",
       "      <td>395118</td>\n",
       "      <td>St. Cloud, MN</td>\n",
       "      <td>MN</td>\n",
       "      <td>2017</td>\n",
       "      <td>3302</td>\n",
       "      <td>164475</td>\n",
       "    </tr>\n",
       "    <tr>\n",
       "      <th>4</th>\n",
       "      <td>394823</td>\n",
       "      <td>Mankato, MN</td>\n",
       "      <td>MN</td>\n",
       "      <td>2017</td>\n",
       "      <td>1554</td>\n",
       "      <td>171142</td>\n",
       "    </tr>\n",
       "  </tbody>\n",
       "</table>\n",
       "</div>"
      ],
      "text/plain": [
       "   RegionID               RegionName StateCode  Year  Counts   Price\n",
       "0    394865  Minneapolis-St Paul, MN        MN  2017   69093  233492\n",
       "1    394543               Duluth, MN        MN  2017    4925  139300\n",
       "2    395030            Rochester, MN        MN  2017    4282  182558\n",
       "3    395118            St. Cloud, MN        MN  2017    3302  164475\n",
       "4    394823              Mankato, MN        MN  2017    1554  171142"
      ]
     },
     "execution_count": 6,
     "metadata": {},
     "output_type": "execute_result"
    }
   ],
   "source": [
    "merged_df.replace(to_replace=0, value='NaN', regex=True)\n",
    "merged_df.dropna(how='any')\n",
    "del merged_df['RegionName_price']\n",
    "del merged_df['StateCode_price']\n",
    "cleaned_df = merged_df.rename(columns={'RegionName_count':'RegionName','StateCode_count':'StateCode'})\n",
    "cleaned_df.head()"
   ]
  },
  {
   "cell_type": "code",
   "execution_count": 7,
   "metadata": {},
   "outputs": [],
   "source": [
    "# Separating MN and US numbers\n",
    "MN_df = cleaned_df.loc[(cleaned_df['StateCode'] == 'MN'),['Counts', 'Price']]\n",
    "US_df = cleaned_df.loc[(cleaned_df['StateCode'] == 'US'),['Counts', 'Price']]"
   ]
  },
  {
   "cell_type": "code",
   "execution_count": 9,
   "metadata": {},
   "outputs": [
    {
     "name": "stdout",
     "output_type": "stream",
     "text": [
      "The correlation between sale price and number of homes sold is 0.56.\n"
     ]
    },
    {
     "data": {
      "image/png": "[encoded data removed]",
      "text/plain": [
       "<Figure size 432x288 with 1 Axes>"
      ]
     },
     "metadata": {
      "needs_background": "light"
     },
     "output_type": "display_data"
    }
   ],
   "source": [
    "x_values = MN_df['Counts']\n",
    "y_values = MN_df['Price']\n",
    "plt.scatter(x_values, y_values)\n",
    "plt.xlabel('Number of Homes Sold in MN')\n",
    "plt.ylabel('Yearly Average of Median Sale Prices (MN)')\n",
    "correlation = st.pearsonr(x_values, y_values)\n",
    "print(f'The correlation between sale price and number of homes sold is {round(correlation[0],2)}.')\n",
    "plt.show()"
   ]
  },
  {
   "cell_type": "code",
   "execution_count": 12,
   "metadata": {},
   "outputs": [
    {
     "name": "stdout",
     "output_type": "stream",
     "text": [
      "The r-squared is: 0.31637020636308594\n"
     ]
    },
    {
     "data": {
      "image/png": "[encoded data removed]",
      "text/plain": [
       "<Figure size 432x288 with 1 Axes>"
      ]
     },
     "metadata": {
      "needs_background": "light"
     },
     "output_type": "display_data"
    }
   ],
   "source": [
    "(slope, intercept, rvalue, pvalue, stderr) = linregress(x_values, y_values)\n",
    "regress_values = x_values * slope + intercept\n",
    "line_eq = \"y=\" +str(round(slope,2))+\"x+\"+str(round(intercept,2))\n",
    "plt.scatter(x_values, y_values)\n",
    "plt.plot(x_values, regress_values, \"r-\")\n",
    "plt.annotate(line_eq,(20000,150000),fontsize=15,color='red')\n",
    "plt.xlabel('MN Home Sales')\n",
    "plt.ylabel('US Home Sales')\n",
    "print(f'The r-squared is: {rvalue**2}')\n",
    "plt.show()"
   ]
  },
  {
   "cell_type": "code",
   "execution_count": null,
   "metadata": {},
   "outputs": [],
   "source": []
  }
 ],
 "metadata": {
  "kernelspec": {
   "display_name": "Python 3",
   "language": "python",
   "name": "python3"
  },
  "language_info": {
   "codemirror_mode": {
    "name": "ipython",
    "version": 3
   },
   "file_extension": ".py",
   "mimetype": "text/x-python",
   "name": "python",
   "nbconvert_exporter": "python",
   "pygments_lexer": "ipython3",
   "version": "3.6.10"
  }
 },
 "nbformat": 4,
 "nbformat_minor": 4
}
